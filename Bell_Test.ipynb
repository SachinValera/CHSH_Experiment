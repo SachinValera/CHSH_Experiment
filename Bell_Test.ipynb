{
 "cells": [
  {
   "cell_type": "code",
   "execution_count": 15,
   "id": "de9dc602",
   "metadata": {},
   "outputs": [],
   "source": [
    "# Import packages. Note that this is done in the underlying kernel (accessible by all cells in document)\n",
    "\n",
    "import numpy as np\n",
    "import math\n",
    "import qiskit\n",
    "\n",
    "from qiskit import QuantumCircuit\n",
    "from qiskit.quantum_info import Statevector\n",
    "from qiskit.visualization import array_to_latex\n",
    "from qiskit.quantum_info import Operator\n",
    "\n",
    "from math import pi"
   ]
  },
  {
   "cell_type": "code",
   "execution_count": 3,
   "id": "a9682c39",
   "metadata": {},
   "outputs": [
    {
     "name": "stdout",
     "output_type": "stream",
     "text": [
      "Circuit for Bell state beta_{ 1 1 }:\n"
     ]
    },
    {
     "data": {
      "text/html": [
       "<pre style=\"word-wrap: normal;white-space: pre;background: #fff0;line-height: 1.1;font-family: &quot;Courier New&quot;,Courier,monospace\">     ┌───┐┌───┐     \n",
       "q_0: ┤ X ├┤ H ├──■──\n",
       "     ├───┤└───┘┌─┴─┐\n",
       "q_1: ┤ X ├─────┤ X ├\n",
       "     └───┘     └───┘</pre>"
      ],
      "text/plain": [
       "     ┌───┐┌───┐     \n",
       "q_0: ┤ X ├┤ H ├──■──\n",
       "     ├───┤└───┘┌─┴─┐\n",
       "q_1: ┤ X ├─────┤ X ├\n",
       "     └───┘     └───┘"
      ]
     },
     "execution_count": 3,
     "metadata": {},
     "output_type": "execute_result"
    }
   ],
   "source": [
    "# Build base circuit here. \n",
    "# The circuit obviously resets each time it's run, since circ is defined in this cell. For the circuit to grow each time the cell is executed, circ would have to be initialised in an external cell.\n",
    "# Let's make it a circuit that generates the Bell basis, i.e. states beta_{ij} for i,j defined below.\n",
    "# For the purposes of the Bell experiment, we take i=j=1\n",
    "\n",
    "i=1\n",
    "j=1\n",
    "\n",
    "circ=QuantumCircuit(2)  \n",
    "\n",
    "if i==1:\n",
    "    circ.x(0)\n",
    "if j==1:\n",
    "    circ.x(1)\n",
    "circ.h(0)\n",
    "circ.cx(0,1)\n",
    "print('Circuit for Bell state beta_{',i,j,'}:')\n",
    "circ.draw()"
   ]
  },
  {
   "cell_type": "code",
   "execution_count": 6,
   "id": "433018ac",
   "metadata": {},
   "outputs": [
    {
     "name": "stdout",
     "output_type": "stream",
     "text": [
      "Bell state beta_{ 1 1 }:\n"
     ]
    },
    {
     "data": {
      "text/latex": [
       "$$- \\frac{\\sqrt{2}}{2} |01\\rangle+\\frac{\\sqrt{2}}{2} |10\\rangle$$"
      ],
      "text/plain": [
       "<IPython.core.display.Latex object>"
      ]
     },
     "execution_count": 6,
     "metadata": {},
     "output_type": "execute_result"
    }
   ],
   "source": [
    "# load trivial n-qubit state 'state' and evolve according to 'circ'. n defined in cell.\n",
    "# Note that state is reloaded each time the cell is executed. If we want it to evolve accumulatively, can initialise it in a separate cell.\n",
    "# N.B! the 3-qubit state is represented |q_2 q_1 q_0> (i.e. in reverse), which filters through to matrix reps etc. \n",
    "# Qiskit's flipped order of kets doesn't matter here, since Bell basis is symmetric (with beta_11 up to global sign)\n",
    "\n",
    "n=2\n",
    "state = Statevector.from_int(0, 2**n)\n",
    "state=state.evolve(circ)\n",
    "print('Bell state beta_{',i,j,'}:')\n",
    "state.draw('latex')\n"
   ]
  },
  {
   "cell_type": "code",
   "execution_count": 5,
   "id": "b07a25d0",
   "metadata": {},
   "outputs": [
    {
     "data": {
      "text/html": [
       "<pre style=\"word-wrap: normal;white-space: pre;background: #fff0;line-height: 1.1;font-family: &quot;Courier New&quot;,Courier,monospace\">     \n",
       "q_0: \n",
       "     \n",
       "q_1: \n",
       "     </pre>"
      ],
      "text/plain": [
       "     \n",
       "q_0: \n",
       "     \n",
       "q_1: \n",
       "     "
      ]
     },
     "execution_count": 5,
     "metadata": {},
     "output_type": "execute_result"
    }
   ],
   "source": [
    "# Define an alternative input circuit 'circ_alt' to experiment with here\n",
    "# Can set inputcirc=circ_alt below\n",
    "# Then can see probe CHSH inequality for alternative input states\n",
    "\n",
    "circ_alt=QuantumCircuit(2)  \n",
    "circ_alt.draw()"
   ]
  },
  {
   "cell_type": "code",
   "execution_count": 74,
   "id": "6ac83bad",
   "metadata": {},
   "outputs": [],
   "source": [
    "# We now define 4 measurement circuits, corresponding to the measurements of different observables on pair of qubits\n",
    "# The 1-qubit observables Q,R,S,T are defined as in Nielsen and Chuang\n",
    "# Q and R are resepctively Pauli-Z and Pauli-X. S and T are respectively spin along axes v_1 and v_2\n",
    "# where v_1=(-1,0,-1) and v_2=(-1,0,1)\n",
    "\n",
    "# Measurement circuit 1 is called QS, and measures Q \\otimes S\n",
    "# Measurement circuit 2 is called RS, and measures R \\otimes S\n",
    "# Measurement circuit 3 is called RT, and measures R \\otimes T\n",
    "# Measurement circuit 4 is called QT, and measures Q \\otimes T"
   ]
  },
  {
   "cell_type": "code",
   "execution_count": 7,
   "id": "7f441446",
   "metadata": {},
   "outputs": [],
   "source": [
    "# Define the circuit 'inputcirc' that generates the input state for measurement via 4 observables above.\n",
    "# As per Nielsen and Chuang, this circuit is 'circ' for maximal violation of CHSH \n",
    "# Can set inputcirc=circ_alt to probe CHSH inequality for alternative input states\n",
    "\n",
    "inputcirc=circ"
   ]
  },
  {
   "cell_type": "code",
   "execution_count": 16,
   "id": "7bfd6aba",
   "metadata": {
    "scrolled": true
   },
   "outputs": [
    {
     "data": {
      "text/html": [
       "<pre style=\"word-wrap: normal;white-space: pre;background: #fff0;line-height: 1.1;font-family: &quot;Courier New&quot;,Courier,monospace\">     ┌───┐┌───┐      ░             ┌─┐   \n",
       "q_0: ┤ X ├┤ H ├──■───░─────────────┤M├───\n",
       "     ├───┤└───┘┌─┴─┐ ░ ┌──────────┐└╥┘┌─┐\n",
       "q_1: ┤ X ├─────┤ X ├─░─┤ Ry(3π/4) ├─╫─┤M├\n",
       "     └───┘     └───┘ ░ └──────────┘ ║ └╥┘\n",
       "c: 2/═══════════════════════════════╩══╩═\n",
       "                                    0  1 </pre>"
      ],
      "text/plain": [
       "     ┌───┐┌───┐      ░             ┌─┐   \n",
       "q_0: ┤ X ├┤ H ├──■───░─────────────┤M├───\n",
       "     ├───┤└───┘┌─┴─┐ ░ ┌──────────┐└╥┘┌─┐\n",
       "q_1: ┤ X ├─────┤ X ├─░─┤ Ry(3π/4) ├─╫─┤M├\n",
       "     └───┘     └───┘ ░ └──────────┘ ║ └╥┘\n",
       "c: 2/═══════════════════════════════╩══╩═\n",
       "                                    0  1 "
      ]
     },
     "execution_count": 16,
     "metadata": {},
     "output_type": "execute_result"
    }
   ],
   "source": [
    "# Definining Measurement circuit 1: QS\n",
    "\n",
    "# Let's append a measurement circuit to our 2-qubit circuit 'circ'.\n",
    "# To do this, we'll first create a measurement circuit 'measQS', and then prepend 'circ'. The total circuit will be 'QS'\n",
    "\n",
    "# Create a quantum circuit with 2-qubits and 2-cbits. Barrier acts as a visual aid for splitting the combined circuits.\n",
    "measQS = QuantumCircuit(2, 2)\n",
    "measQS.barrier(range(2))\n",
    "measQS.ry(3*pi/4,1)\n",
    "# map the quantum measurement to the classical bits \n",
    "measQS.measure(range(2), range(2))\n",
    "\n",
    "# The Qiskit circuit object supports composition. `compose' must feed a smaller circuit into a larger one.\n",
    "# front=True prepends circ (false will post-pend)\n",
    "QS = measQS.compose(inputcirc, range(2), front=True)\n",
    "\n",
    "# drawing the circuit. \n",
    "QS.draw()"
   ]
  },
  {
   "cell_type": "code",
   "execution_count": 17,
   "id": "37eaa87d",
   "metadata": {},
   "outputs": [
    {
     "data": {
      "text/html": [
       "<pre style=\"word-wrap: normal;white-space: pre;background: #fff0;line-height: 1.1;font-family: &quot;Courier New&quot;,Courier,monospace\">     ┌───┐┌───┐      ░ ┌──────────┐┌─┐   \n",
       "q_0: ┤ X ├┤ H ├──■───░─┤ Ry(-π/2) ├┤M├───\n",
       "     ├───┤└───┘┌─┴─┐ ░ ├──────────┤└╥┘┌─┐\n",
       "q_1: ┤ X ├─────┤ X ├─░─┤ Ry(3π/4) ├─╫─┤M├\n",
       "     └───┘     └───┘ ░ └──────────┘ ║ └╥┘\n",
       "c: 2/═══════════════════════════════╩══╩═\n",
       "                                    0  1 </pre>"
      ],
      "text/plain": [
       "     ┌───┐┌───┐      ░ ┌──────────┐┌─┐   \n",
       "q_0: ┤ X ├┤ H ├──■───░─┤ Ry(-π/2) ├┤M├───\n",
       "     ├───┤└───┘┌─┴─┐ ░ ├──────────┤└╥┘┌─┐\n",
       "q_1: ┤ X ├─────┤ X ├─░─┤ Ry(3π/4) ├─╫─┤M├\n",
       "     └───┘     └───┘ ░ └──────────┘ ║ └╥┘\n",
       "c: 2/═══════════════════════════════╩══╩═\n",
       "                                    0  1 "
      ]
     },
     "execution_count": 17,
     "metadata": {},
     "output_type": "execute_result"
    }
   ],
   "source": [
    "# Definining Measurement circuit 2: RS\n",
    "\n",
    "measRS = QuantumCircuit(2, 2)\n",
    "measRS.barrier(range(2))\n",
    "measRS.ry(-pi/2,0)\n",
    "measRS.ry(3*pi/4,1)\n",
    "measRS.measure(range(2), range(2))\n",
    "\n",
    "RS = measRS.compose(inputcirc, range(2), front=True)\n",
    "\n",
    "RS.draw()"
   ]
  },
  {
   "cell_type": "code",
   "execution_count": 18,
   "id": "a45ee3b2",
   "metadata": {},
   "outputs": [
    {
     "data": {
      "text/html": [
       "<pre style=\"word-wrap: normal;white-space: pre;background: #fff0;line-height: 1.1;font-family: &quot;Courier New&quot;,Courier,monospace\">     ┌───┐┌───┐      ░ ┌──────────┐┌─┐   \n",
       "q_0: ┤ X ├┤ H ├──■───░─┤ Ry(-π/2) ├┤M├───\n",
       "     ├───┤└───┘┌─┴─┐ ░ ├─────────┬┘└╥┘┌─┐\n",
       "q_1: ┤ X ├─────┤ X ├─░─┤ Ry(π/4) ├──╫─┤M├\n",
       "     └───┘     └───┘ ░ └─────────┘  ║ └╥┘\n",
       "c: 2/═══════════════════════════════╩══╩═\n",
       "                                    0  1 </pre>"
      ],
      "text/plain": [
       "     ┌───┐┌───┐      ░ ┌──────────┐┌─┐   \n",
       "q_0: ┤ X ├┤ H ├──■───░─┤ Ry(-π/2) ├┤M├───\n",
       "     ├───┤└───┘┌─┴─┐ ░ ├─────────┬┘└╥┘┌─┐\n",
       "q_1: ┤ X ├─────┤ X ├─░─┤ Ry(π/4) ├──╫─┤M├\n",
       "     └───┘     └───┘ ░ └─────────┘  ║ └╥┘\n",
       "c: 2/═══════════════════════════════╩══╩═\n",
       "                                    0  1 "
      ]
     },
     "execution_count": 18,
     "metadata": {},
     "output_type": "execute_result"
    }
   ],
   "source": [
    "# Definining Measurement circuit 2: RT\n",
    "\n",
    "measRT = QuantumCircuit(2, 2)\n",
    "measRT.barrier(range(2))\n",
    "measRT.ry(-pi/2,0)\n",
    "measRT.ry(pi/4,1)\n",
    "measRT.measure(range(2), range(2))\n",
    "\n",
    "RT = measRT.compose(inputcirc, range(2), front=True)\n",
    "\n",
    "RT.draw()"
   ]
  },
  {
   "cell_type": "code",
   "execution_count": 19,
   "id": "acc21d0e",
   "metadata": {
    "scrolled": true
   },
   "outputs": [
    {
     "data": {
      "text/html": [
       "<pre style=\"word-wrap: normal;white-space: pre;background: #fff0;line-height: 1.1;font-family: &quot;Courier New&quot;,Courier,monospace\">     ┌───┐┌───┐      ░            ┌─┐   \n",
       "q_0: ┤ X ├┤ H ├──■───░────────────┤M├───\n",
       "     ├───┤└───┘┌─┴─┐ ░ ┌─────────┐└╥┘┌─┐\n",
       "q_1: ┤ X ├─────┤ X ├─░─┤ Ry(π/4) ├─╫─┤M├\n",
       "     └───┘     └───┘ ░ └─────────┘ ║ └╥┘\n",
       "c: 2/══════════════════════════════╩══╩═\n",
       "                                   0  1 </pre>"
      ],
      "text/plain": [
       "     ┌───┐┌───┐      ░            ┌─┐   \n",
       "q_0: ┤ X ├┤ H ├──■───░────────────┤M├───\n",
       "     ├───┤└───┘┌─┴─┐ ░ ┌─────────┐└╥┘┌─┐\n",
       "q_1: ┤ X ├─────┤ X ├─░─┤ Ry(π/4) ├─╫─┤M├\n",
       "     └───┘     └───┘ ░ └─────────┘ ║ └╥┘\n",
       "c: 2/══════════════════════════════╩══╩═\n",
       "                                   0  1 "
      ]
     },
     "execution_count": 19,
     "metadata": {},
     "output_type": "execute_result"
    }
   ],
   "source": [
    "# Definining Measurement circuit 2: QT\n",
    "\n",
    "measQT = QuantumCircuit(2, 2)\n",
    "measQT.barrier(range(2))\n",
    "measQT.ry(pi/4,1)\n",
    "measQT.measure(range(2), range(2))\n",
    "\n",
    "QT = measQT.compose(inputcirc, range(2), front=True)\n",
    "\n",
    "QT.draw()"
   ]
  },
  {
   "cell_type": "code",
   "execution_count": 21,
   "id": "6f9e2049",
   "metadata": {
    "scrolled": true
   },
   "outputs": [
    {
     "name": "stdout",
     "output_type": "stream",
     "text": [
      "In the following we calculate the exact expectation value of the observables QS,RS,RT,QT with respect to the state produced by the *pre-barrier* circuit. This is the same as the expectation value of observable Z with respect to the state produced by the entire circuit.\n",
      "\n",
      "QS:\n",
      "     ┌───┐┌───┐      ░             \n",
      "q_0: ┤ X ├┤ H ├──■───░─────────────\n",
      "     ├───┤└───┘┌─┴─┐ ░ ┌──────────┐\n",
      "q_1: ┤ X ├─────┤ X ├─░─┤ Ry(3π/4) ├\n",
      "     └───┘     └───┘ ░ └──────────┘\n",
      "E(QS): 0.7071067811865472\n",
      "\n",
      "\n",
      "RS:\n",
      "     ┌───┐┌───┐      ░ ┌──────────┐\n",
      "q_0: ┤ X ├┤ H ├──■───░─┤ Ry(-π/2) ├\n",
      "     ├───┤└───┘┌─┴─┐ ░ ├──────────┤\n",
      "q_1: ┤ X ├─────┤ X ├─░─┤ Ry(3π/4) ├\n",
      "     └───┘     └───┘ ░ └──────────┘\n",
      "E(RS): 0.7071067811865476\n",
      "\n",
      "\n",
      "RT:\n",
      "     ┌───┐┌───┐      ░ ┌──────────┐\n",
      "q_0: ┤ X ├┤ H ├──■───░─┤ Ry(-π/2) ├\n",
      "     ├───┤└───┘┌─┴─┐ ░ ├─────────┬┘\n",
      "q_1: ┤ X ├─────┤ X ├─░─┤ Ry(π/4) ├─\n",
      "     └───┘     └───┘ ░ └─────────┘ \n",
      "E(RT): 0.7071067811865475\n",
      "\n",
      "\n",
      "QT:\n",
      "     ┌───┐┌───┐      ░            \n",
      "q_0: ┤ X ├┤ H ├──■───░────────────\n",
      "     ├───┤└───┘┌─┴─┐ ░ ┌─────────┐\n",
      "q_1: ┤ X ├─────┤ X ├─░─┤ Ry(π/4) ├\n",
      "     └───┘     └───┘ ░ └─────────┘\n",
      "E(QT): -0.7071067811865474\n",
      "\n",
      "\n",
      "E(QS+RS+RT-QT)= 2.82842712474619\n",
      "\n",
      "The above calculations were run with respect to the following input state (produced by pre-barrier circuit):\n"
     ]
    },
    {
     "name": "stderr",
     "output_type": "stream",
     "text": [
      "C:\\Users\\Sachin\\AppData\\Local\\Temp\\ipykernel_13460\\1355606002.py:10: DeprecationWarning: The class ``qiskit.opflow.primitive_ops.circuit_op.CircuitOp`` is deprecated as of qiskit-terra 0.24.0. It will be removed no earlier than 3 months after the release date. For code migration guidelines, visit https://qisk.it/opflow_migration.\n",
      "  opy = CircuitOp(opz)\n",
      "C:\\Users\\Sachin\\AppData\\Local\\Temp\\ipykernel_13460\\1355606002.py:27: DeprecationWarning: The class ``qiskit.opflow.state_fns.circuit_state_fn.CircuitStateFn`` is deprecated as of qiskit-terra 0.24.0. It will be removed no earlier than 3 months after the release date. For code migration guidelines, visit https://qisk.it/opflow_migration.\n",
      "  QS_3 = CircuitStateFn(QS_3)\n",
      "C:\\Users\\Sachin\\AppData\\Local\\Temp\\ipykernel_13460\\1355606002.py:45: DeprecationWarning: The class ``qiskit.opflow.state_fns.circuit_state_fn.CircuitStateFn`` is deprecated as of qiskit-terra 0.24.0. It will be removed no earlier than 3 months after the release date. For code migration guidelines, visit https://qisk.it/opflow_migration.\n",
      "  RS_3 = CircuitStateFn(RS_3)\n",
      "C:\\Users\\Sachin\\AppData\\Local\\Temp\\ipykernel_13460\\1355606002.py:62: DeprecationWarning: The class ``qiskit.opflow.state_fns.circuit_state_fn.CircuitStateFn`` is deprecated as of qiskit-terra 0.24.0. It will be removed no earlier than 3 months after the release date. For code migration guidelines, visit https://qisk.it/opflow_migration.\n",
      "  RT_3 = CircuitStateFn(RT_3)\n",
      "C:\\Users\\Sachin\\AppData\\Local\\Temp\\ipykernel_13460\\1355606002.py:79: DeprecationWarning: The class ``qiskit.opflow.state_fns.circuit_state_fn.CircuitStateFn`` is deprecated as of qiskit-terra 0.24.0. It will be removed no earlier than 3 months after the release date. For code migration guidelines, visit https://qisk.it/opflow_migration.\n",
      "  QT_3 = CircuitStateFn(QT_3)\n"
     ]
    },
    {
     "data": {
      "text/latex": [
       "$$- \\frac{\\sqrt{2}}{2} |01\\rangle+\\frac{\\sqrt{2}}{2} |10\\rangle$$"
      ],
      "text/plain": [
       "<IPython.core.display.Latex object>"
      ]
     },
     "execution_count": 21,
     "metadata": {},
     "output_type": "execute_result"
    }
   ],
   "source": [
    "# Can use Qiskit's inbuilt ability to compute expectation values of operator w.r.t input state (for small circuits)\n",
    "# This (and other solutions) are describe here: quantumcomputing.stackexchange.com/questions/12080/\n",
    "\n",
    "from qiskit.opflow import CircuitOp, CircuitStateFn\n",
    "\n",
    "# Load operator z\\otimes z into variable 'opy'. \n",
    "opz = QuantumCircuit(2)\n",
    "opz.z(0)\n",
    "opz.z(1)\n",
    "opy = CircuitOp(opz)\n",
    "\n",
    "# Define the circuits for QS,RS,RT,QT as above, but without measurement\n",
    "\n",
    "print('In the following we calculate the exact expectation value of the observables QS,RS,RT,QT with respect to the state produced by the *pre-barrier* circuit. This is the same as the expectation value of observable Z with respect to the state produced by the entire circuit.\\n')\n",
    "\n",
    "\n",
    "# For QS, define QS_3\n",
    "QS_2 = QuantumCircuit(2)\n",
    "QS_2.barrier(range(2))\n",
    "QS_2.ry(3*pi/4,1)\n",
    "\n",
    "QS_3 = QS_2.compose(inputcirc, range(2), front=True)\n",
    "print('QS:')\n",
    "print(QS_3)\n",
    "\n",
    "# Load action of circuit QS_3 on trivial input into state vector called QS_3\n",
    "QS_3 = CircuitStateFn(QS_3)\n",
    "# Calculate the expectation value of Z\\otimesZ ('opy') w.r.t state QS_3\n",
    "a=QS_3.adjoint().compose(opy).compose(QS_3).eval().real\n",
    "print('E(QS):', a)\n",
    "print('\\n')\n",
    "\n",
    "\n",
    "\n",
    "# For RS, define RS_3\n",
    "RS_2 = QuantumCircuit(2)\n",
    "RS_2.barrier(range(2))\n",
    "RS_2.ry(-pi/2,0)\n",
    "RS_2.ry(3*pi/4,1)\n",
    "\n",
    "RS_3 = RS_2.compose(inputcirc, range(2), front=True)\n",
    "print('RS:')\n",
    "print(RS_3)\n",
    "\n",
    "RS_3 = CircuitStateFn(RS_3)\n",
    "b=RS_3.adjoint().compose(opy).compose(RS_3).eval().real\n",
    "print('E(RS):', b)\n",
    "print('\\n')\n",
    "\n",
    "\n",
    "\n",
    "# For RT, define RT_3\n",
    "RT_2 = QuantumCircuit(2)\n",
    "RT_2.barrier(range(2))\n",
    "RT_2.ry(-pi/2,0)\n",
    "RT_2.ry(pi/4,1)\n",
    "\n",
    "RT_3 = RT_2.compose(inputcirc, range(2), front=True)\n",
    "print('RT:')\n",
    "print(RT_3)\n",
    "\n",
    "RT_3 = CircuitStateFn(RT_3)\n",
    "c=RT_3.adjoint().compose(opy).compose(RT_3).eval().real\n",
    "print('E(RT):', c)\n",
    "print('\\n')\n",
    "\n",
    "\n",
    "\n",
    "\n",
    "# For QT, define QT_3\n",
    "QT_2 = QuantumCircuit(2)\n",
    "QT_2.barrier(range(2))\n",
    "QT_2.ry(pi/4,1)\n",
    "\n",
    "QT_3 = QT_2.compose(inputcirc, range(2), front=True)\n",
    "print('QT:')\n",
    "print(QT_3)\n",
    "\n",
    "QT_3 = CircuitStateFn(QT_3)\n",
    "d=QT_3.adjoint().compose(opy).compose(QT_3).eval().real\n",
    "print('E(QT):', d)\n",
    "print('\\n')\n",
    "\n",
    "\n",
    "\n",
    "#Output\n",
    "print('E(QS+RS+RT-QT)=',a+b+c-d)\n",
    "\n",
    "# Print the state generated by 'inputcirc', w.r.t. which measurements of observables were taken\n",
    "state = Statevector.from_int(0, 2**2)\n",
    "state=state.evolve(inputcirc)\n",
    "print('\\n' + 'The above calculations were run with respect to the following input state (produced by pre-barrier circuit):')\n",
    "state.draw('latex')\n"
   ]
  },
  {
   "cell_type": "code",
   "execution_count": 25,
   "id": "99a04559",
   "metadata": {
    "scrolled": false
   },
   "outputs": [
    {
     "name": "stdout",
     "output_type": "stream",
     "text": [
      "We will measure observables QS,RS,RT,QT 100000 times each, with respect to an input state generated by the following circuit:\n",
      "     ┌───┐┌───┐     \n",
      "q_0: ┤ X ├┤ H ├──■──\n",
      "     ├───┤└───┘┌─┴─┐\n",
      "q_1: ┤ X ├─────┤ X ├\n",
      "     └───┘     └───┘\n",
      "QS:\n",
      "{'11': 42787, '10': 7335, '00': 42558, '01': 7320}\n",
      "RS:\n",
      "{'00': 42746, '10': 7241, '11': 42556, '01': 7457}\n",
      "RT:\n",
      "{'00': 42933, '11': 42709, '01': 7171, '10': 7187}\n",
      "QT:\n",
      "{'01': 42783, '10': 42589, '00': 7352, '11': 7276}\n",
      "\n",
      "Estimated value of E(QS)+E(RS)+E(RT)+E(QT) via above simulation is 2.83322.\n",
      "Exact value of E(QS)+E(RS)+E(RT)+E(QT) is 2.82842712474619.\n",
      "Theoretical maximum (Tsirelson's bound) is: 2.8284271247461903\n",
      "\n",
      "The above calculations were run with respect to the following input state (produced by above circuit):\n"
     ]
    },
    {
     "data": {
      "text/latex": [
       "$$- \\frac{\\sqrt{2}}{2} |01\\rangle+\\frac{\\sqrt{2}}{2} |10\\rangle$$"
      ],
      "text/plain": [
       "<IPython.core.display.Latex object>"
      ]
     },
     "execution_count": 25,
     "metadata": {},
     "output_type": "execute_result"
    }
   ],
   "source": [
    "# Make sure you have run the cells above before this one, or will get errors!\n",
    "# Now we're going to simulate N shots of circuits QS,RS,RT,QT\n",
    "N=100000\n",
    "\n",
    "# Print details about what we're doing\n",
    "print('We will measure observables QS,RS,RT,QT ' + str(N) + ' times each, with respect to an input state generated by the following circuit:')\n",
    "print(inputcirc)\n",
    "\n",
    "\n",
    "# Adding the transpiler to reduce the circuit to QASM (quantum assembler code) instructions.\n",
    "# supported by the backend. The 'backend' is usually a quantum computer or a simulator.\n",
    "from qiskit import transpile\n",
    "\n",
    "# Use AerSimulator as backend\n",
    "from qiskit_aer import AerSimulator\n",
    "backend = AerSimulator()\n",
    "\n",
    "# string is an array of circuits to loop through; counter tracks the iteration number in this loop\n",
    "# E is the expectation value to be computed; parity tracks the sign in E(QS)+E(RS)+E(RT)-E(QT)\n",
    "# I.e. we will flip the sign of parity when we add E(QT) during the for-loop\n",
    "string=(QS,RS,RT,QT)\n",
    "string_2=('QS','RS','RT','QT')\n",
    "counter=0\n",
    "E=0\n",
    "parity=1\n",
    "\n",
    "for jcirc in string:\n",
    "    \n",
    "    # For each iteration through string, we will compute an average `av'\n",
    "    av=0\n",
    "    counter+=1\n",
    "    \n",
    "    # First we have to transpile the quantum circuit to the low-level QASM instructions used by the backend.\n",
    "    # Here, we'll be transpiling our circuit into QASM run on AerSimulator\n",
    "    circ_compiled = transpile(jcirc, backend)\n",
    "\n",
    "    # Execute the circuit on the qasm simulator.\n",
    "    # We've set the number of repeats of the circuit to be N\n",
    "    job_sim = backend.run(circ_compiled, shots=N)\n",
    "\n",
    "    # Grab the results from the job.\n",
    "    result_sim = job_sim.result()\n",
    "\n",
    "    # Print the counts from the simulation of N shots on each circuit QS,RS,RT,QT\n",
    "    counts = result_sim.get_counts()\n",
    "    print(string_2[(counter-1)]+':')\n",
    "    print(counts)\n",
    "    \n",
    "    # In case some outcomes are measured 0 times over our N shots, we define default values for them as 0 in counts\n",
    "    outcomes={'00','01','10','11'}\n",
    "    for j in outcomes:\n",
    "        value = counts.setdefault(j, 0)\n",
    "    \n",
    "    # The measurement outcome is +1 when have 11,00 (eigenvalues match)\n",
    "    # and outcome of measuring observable is -1 when measure 01,10 (eigenvalues differ)\n",
    "    if counter == 4:\n",
    "        parity=-1\n",
    "    av=parity*((counts['00']+counts['11']-counts['01']-counts['10'])/N)    \n",
    "    E+=av\n",
    "    \n",
    "# Print the results\n",
    "print ('\\n'+'Estimated value of E(QS)+E(RS)+E(RT)+E(QT) via above simulation is ' + str(E) + '.')\n",
    "print ('Exact value of E(QS)+E(RS)+E(RT)+E(QT) is ' + str(a+b+c-d) + '.')\n",
    "print ('Theoretical maximum (Tsirelson\\'s bound) is: ' + str(2*math.sqrt(2))) \n",
    "\n",
    "\n",
    "# Print the state generated by 'inputcirc', w.r.t. which measurements of observables were taken\n",
    "n=2\n",
    "state = Statevector.from_int(0, 2**n)\n",
    "state=state.evolve(inputcirc)\n",
    "print('\\n' + 'The above calculations were run with respect to the following input state (produced by above circuit):')\n",
    "state.draw('latex')"
   ]
  },
  {
   "cell_type": "code",
   "execution_count": 29,
   "id": "de5d9146",
   "metadata": {},
   "outputs": [
    {
     "data": {
      "text/plain": [
       "<matplotlib.legend.Legend at 0x1a588329950>"
      ]
     },
     "execution_count": 29,
     "metadata": {},
     "output_type": "execute_result"
    },
    {
     "data": {
      "image/png": "[encoded data removed]",
      "text/plain": [
       "<Figure size 640x480 with 1 Axes>"
      ]
     },
     "metadata": {},
     "output_type": "display_data"
    }
   ],
   "source": [
    "# Now we'll plot the averages as a function of the number of shots. \n",
    "# By the law of large numbers, the function should tend towards the the expectation value.\n",
    "\n",
    "# shots_initial determines the initial number of shots to simulate the experiment for\n",
    "# shots_increment determines the amount by which no. of shots increased in next simulation\n",
    "# x_points determines the number of increments i.e. no. of simulations run\n",
    "shots_initial=100000\n",
    "shots_increment=10000\n",
    "x_points=90\n",
    "\n",
    "# shotpoints is the x-axis array, and plotpoints the y-axis array\n",
    "shotpoints=[]\n",
    "plotpoints=[]\n",
    "\n",
    "\n",
    "import matplotlib.pyplot as plt\n",
    "from qiskit import transpile\n",
    "from qiskit_aer import AerSimulator\n",
    "backend = AerSimulator()\n",
    "\n",
    "\n",
    "string=(QS,RS,RT,QT)\n",
    "N=shots_initial\n",
    "i=0\n",
    "\n",
    "while i<x_points:\n",
    "    \n",
    "    counter=0\n",
    "    E=0\n",
    "    parity=1\n",
    "    \n",
    "    for jcirc in string:\n",
    "        \n",
    "        av=0\n",
    "        counter+=1\n",
    "    \n",
    "        circ_compiled = transpile(jcirc, backend)\n",
    "        job_sim = backend.run(circ_compiled, shots=N)\n",
    "\n",
    "        result_sim = job_sim.result()\n",
    "\n",
    "        counts = result_sim.get_counts()\n",
    "    \n",
    "        outcomes={'00','01','10','11'}\n",
    "        for j in outcomes:\n",
    "            value = counts.setdefault(j, 0)\n",
    "    \n",
    "        if counter == 4:\n",
    "            parity=-1\n",
    "        av=parity*((counts['00']+counts['11']-counts['01']-counts['10'])/N)    \n",
    "        E+=av\n",
    "        \n",
    "    shotpoints.append(N)\n",
    "    plotpoints.append(E)\n",
    "    N+=shots_increment\n",
    "    i+=1\n",
    "    \n",
    "# Plot configuration\n",
    "plt.plot(shotpoints,plotpoints, \"o-\", label='CHSH simulation')\n",
    "plt.axhline(y = 2*math.sqrt(2), color = 'r', linestyle = '--', label='Tsirelson bound')\n",
    "plt.xlabel('No. of shots')\n",
    "plt.ylabel('E(QS+RS+RT-QT)')\n",
    "plt.legend()"
   ]
  }
 ],
 "metadata": {
  "kernelspec": {
   "display_name": "Python 3 (ipykernel)",
   "language": "python",
   "name": "python3"
  },
  "language_info": {
   "codemirror_mode": {
    "name": "ipython",
    "version": 3
   },
   "file_extension": ".py",
   "mimetype": "text/x-python",
   "name": "python",
   "nbconvert_exporter": "python",
   "pygments_lexer": "ipython3",
   "version": "3.11.2"
  }
 },
 "nbformat": 4,
 "nbformat_minor": 5
}
